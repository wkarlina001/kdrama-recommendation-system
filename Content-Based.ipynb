{
 "cells": [
  {
   "cell_type": "code",
   "execution_count": 27,
   "metadata": {},
   "outputs": [
    {
     "name": "stdout",
     "output_type": "stream",
     "text": [
      "[[1.         0.3354102  0.38575837 ... 0.07216878 0.21759707 0.25515518]\n",
      " [0.3354102  1.         0.3105295  ... 0.19364917 0.23354968 0.18257419]\n",
      " [0.38575837 0.3105295  1.         ... 0.17817416 0.34918995 0.22047928]\n",
      " ...\n",
      " [0.07216878 0.19364917 0.17817416 ... 1.         0.05025189 0.05892557]\n",
      " [0.21759707 0.23354968 0.34918995 ... 0.05025189 1.         0.10660036]\n",
      " [0.25515518 0.18257419 0.22047928 ... 0.05892557 0.10660036 1.        ]]\n"
     ]
    }
   ],
   "source": [
    "import pandas as pd\n",
    "import numpy as np\n",
    "from sklearn.feature_extraction.text import CountVectorizer\n",
    "from sklearn.metrics.pairwise import cosine_similarity\n",
    "\n",
    "def combine_features(row):\n",
    "    features = [\"Actors\",\"Genre\",\"Director\"]\n",
    "    return \" \".join(row[features])\n",
    "def get_title_from_index(index):\n",
    "    return df[df.index == index][\"Drama_Name\"].values[0]\n",
    "def get_index_from_title(title):\n",
    "    return df[df.Drama_Name == title][\"index\"].values[0]\n",
    "\n",
    "df = pd.read_csv(\"./data/kdrama_contentbased.csv\")\n",
    "df['index']  = [i for i in range(len(df))]\n",
    "df[\"combined_features\"] = df.apply(combine_features,axis=1) #applying combined_features() method over each rows of dataframe and storing the combined string in \"combined_features\" column\n",
    "\n",
    "cv = CountVectorizer()\n",
    "count_matrix = cv.fit_transform(df[\"combined_features\"])\n",
    "cosine_sim = cosine_similarity(count_matrix)\n",
    "print(cosine_sim)\n"
   ]
  },
  {
   "cell_type": "code",
   "execution_count": 28,
   "metadata": {},
   "outputs": [
    {
     "name": "stdout",
     "output_type": "stream",
     "text": [
      "Top 5 similar movies to The Heirs are:\n",
      "\n",
      "About time\n",
      "My girlfriend is gumiho\n",
      "Encounter\n",
      "Doctors\n",
      "Pinocchio\n"
     ]
    }
   ],
   "source": [
    "movie_user_likes = \"The Heirs\"\n",
    "\n",
    "movie_index = get_index_from_title(movie_user_likes)\n",
    "similar_movies = list(enumerate(cosine_sim[movie_index])) #accessing the row corresponding to given movie to find all the \n",
    "# print((similar_movies))\n",
    "\n",
    "sorted_similar_movies = sorted(similar_movies,key=lambda x:x[1],reverse=True)[1:6]\n",
    "print(\"Top 5 similar movies to \"+movie_user_likes+\" are:\\n\")\n",
    "for element in sorted_similar_movies:\n",
    "    print(get_title_from_index(element[0]))\n"
   ]
  },
  {
   "cell_type": "code",
   "execution_count": 29,
   "metadata": {},
   "outputs": [],
   "source": [
    "import pickle\n",
    "pickle.dump(df,open('movie_list.pkl','wb'))\n",
    "pickle.dump(cosine_sim,open('similarity.pkl','wb'))"
   ]
  },
  {
   "cell_type": "code",
   "execution_count": 15,
   "metadata": {},
   "outputs": [
    {
     "name": "stdout",
     "output_type": "stream",
     "text": [
      "[%] Downloading Images to /Users/wkarlina/Documents/GATECH/git/recommendation-engine/image/Angel’s last mission Love\n",
      "\n",
      "\n",
      "[!!]Indexing page: 1\n",
      "\n",
      "[%] Indexed 1 Images on Page 1.\n",
      "\n",
      "===============================================\n",
      "\n",
      "[%] Downloading Image #1 from https://image.tmdb.org/t/p/original/384Rq41XJTQbiCreE6806id44QC.jpg\n",
      "[%] File Downloaded !\n",
      "\n",
      "\n",
      "\n",
      "[%] Done. Downloaded 1 images.\n",
      "===============================================\n",
      "\n",
      "Please show your support here\n",
      "https://www.buymeacoffee.com/gurugaurav\n",
      "\n",
      "===============================================\n",
      "\n"
     ]
    }
   ],
   "source": [
    "from bing_image_downloader import downloader\n",
    "\n",
    "downloader.download(\"Angel’s last mission Love\", limit=1, output_dir='image', \\\n",
    "        adult_filter_off=True, force_replace=False, timeout=60, verbose=True)\n"
   ]
  },
  {
   "cell_type": "code",
   "execution_count": null,
   "metadata": {},
   "outputs": [],
   "source": []
  }
 ],
 "metadata": {
  "interpreter": {
   "hash": "f8d251c8135160fde514869c29d8a9b916c20346bb8d32c49b505b98d84f4acd"
  },
  "kernelspec": {
   "display_name": "Python 3",
   "language": "python",
   "name": "python3"
  },
  "language_info": {
   "codemirror_mode": {
    "name": "ipython",
    "version": 3
   },
   "file_extension": ".py",
   "mimetype": "text/x-python",
   "name": "python",
   "nbconvert_exporter": "python",
   "pygments_lexer": "ipython3",
   "version": "3.7.4"
  }
 },
 "nbformat": 4,
 "nbformat_minor": 2
}
