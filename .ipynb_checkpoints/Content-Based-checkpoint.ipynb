{
 "cells": [
  {
   "cell_type": "code",
   "execution_count": 2,
   "metadata": {},
   "outputs": [
    {
     "name": "stdout",
     "output_type": "stream",
     "text": [
      "['fart', 'london', 'paris']\n",
      "[[1 2 1]\n",
      " [0 1 2]]\n",
      "[[1.         0.73029674]\n",
      " [0.73029674 1.        ]]\n"
     ]
    }
   ],
   "source": [
    "from sklearn.feature_extraction.text import CountVectorizer\n",
    "cv = CountVectorizer()\n",
    "#         fart london paris\n",
    "# text 0\n",
    "# text 1\n",
    "text = [\"London Paris London fart\",\"Paris Paris London\"]\n",
    "count_matrix = cv.fit_transform(text)\n",
    "\n",
    "print(cv.get_feature_names())\n",
    "print(count_matrix.toarray())\n",
    "\n",
    "from sklearn.metrics.pairwise import cosine_similarity\n",
    "similarity_scores = cosine_similarity(count_matrix)\n",
    "print(similarity_scores)"
   ]
  },
  {
   "cell_type": "code",
   "execution_count": 16,
   "metadata": {},
   "outputs": [
    {
     "data": {
      "text/html": [
       "<div>\n",
       "<style scoped>\n",
       "    .dataframe tbody tr th:only-of-type {\n",
       "        vertical-align: middle;\n",
       "    }\n",
       "\n",
       "    .dataframe tbody tr th {\n",
       "        vertical-align: top;\n",
       "    }\n",
       "\n",
       "    .dataframe thead th {\n",
       "        text-align: right;\n",
       "    }\n",
       "</style>\n",
       "<table border=\"1\" class=\"dataframe\">\n",
       "  <thead>\n",
       "    <tr style=\"text-align: right;\">\n",
       "      <th></th>\n",
       "      <th>Drama_Name</th>\n",
       "      <th>Rating(Out of 10)</th>\n",
       "      <th>Actors</th>\n",
       "      <th>Viewship Rate</th>\n",
       "      <th>Genre</th>\n",
       "      <th>Director</th>\n",
       "      <th>Writer</th>\n",
       "      <th>Year</th>\n",
       "      <th>No of Episodes</th>\n",
       "      <th>Network</th>\n",
       "    </tr>\n",
       "  </thead>\n",
       "  <tbody>\n",
       "    <tr>\n",
       "      <td>0</td>\n",
       "      <td>Legend of the Blue Sea</td>\n",
       "      <td>8.1</td>\n",
       "      <td>Jun Ji-hyun, Lee Min-ho</td>\n",
       "      <td>17.60</td>\n",
       "      <td>Fantasy,Romance,Comedy</td>\n",
       "      <td>Jin Hyuk, Park Seon-Ho</td>\n",
       "      <td>Park Ji-eun</td>\n",
       "      <td>2016</td>\n",
       "      <td>21</td>\n",
       "      <td>SBS</td>\n",
       "    </tr>\n",
       "    <tr>\n",
       "      <td>1</td>\n",
       "      <td>The Heirs</td>\n",
       "      <td>7.5</td>\n",
       "      <td>Lee Min-ho, Park Shin-hye, Kim Woo-bin</td>\n",
       "      <td>16.70</td>\n",
       "      <td>Romance, Drama, Teen</td>\n",
       "      <td>Kang Shin-hyo, Boo Sung-chul</td>\n",
       "      <td>Kim Eun-sook</td>\n",
       "      <td>2013</td>\n",
       "      <td>20</td>\n",
       "      <td>SBS</td>\n",
       "    </tr>\n",
       "    <tr>\n",
       "      <td>2</td>\n",
       "      <td>The King: Eternal Monarch</td>\n",
       "      <td>8.3</td>\n",
       "      <td>Lee Min-ho, Kim Go-eun, Woo Do-hwan, Kim Kyung...</td>\n",
       "      <td>7.70</td>\n",
       "      <td>Romance, Fantasy, Drama</td>\n",
       "      <td>Baek Sang-hoon, Jung Ji-hyun, Yoo Je-won</td>\n",
       "      <td>Kim Eun-sook</td>\n",
       "      <td>2020</td>\n",
       "      <td>16</td>\n",
       "      <td>SBS</td>\n",
       "    </tr>\n",
       "    <tr>\n",
       "      <td>3</td>\n",
       "      <td>Boys over Flowers</td>\n",
       "      <td>7.9</td>\n",
       "      <td>Lee Min-ho, Ku Hye-sun, Kim Hyun-joong, Kim Bu...</td>\n",
       "      <td>25.70</td>\n",
       "      <td>Romance, Comedy, Drama</td>\n",
       "      <td>Jeon Ki-sang</td>\n",
       "      <td>Yoon Ji-ryun</td>\n",
       "      <td>2009</td>\n",
       "      <td>25</td>\n",
       "      <td>KBS</td>\n",
       "    </tr>\n",
       "    <tr>\n",
       "      <td>4</td>\n",
       "      <td>Guardian: the lonely and the great god</td>\n",
       "      <td>8.6</td>\n",
       "      <td>Gong Yoo, Kim Go-eun, Lee Dong-wook, Yoo In-na...</td>\n",
       "      <td>12.81</td>\n",
       "      <td>Fantasy, Romance, Drama</td>\n",
       "      <td>Lee Eung-bok, Kwon Hyuk-chan, Yoon Jong-ho</td>\n",
       "      <td>Kim Eun-sook</td>\n",
       "      <td>2016</td>\n",
       "      <td>18</td>\n",
       "      <td>TvN</td>\n",
       "    </tr>\n",
       "  </tbody>\n",
       "</table>\n",
       "</div>"
      ],
      "text/plain": [
       "                               Drama_Name  Rating(Out of 10)  \\\n",
       "0                  Legend of the Blue Sea                8.1   \n",
       "1                               The Heirs                7.5   \n",
       "2               The King: Eternal Monarch                8.3   \n",
       "3                       Boys over Flowers                7.9   \n",
       "4  Guardian: the lonely and the great god                8.6   \n",
       "\n",
       "                                              Actors  Viewship Rate  \\\n",
       "0                            Jun Ji-hyun, Lee Min-ho          17.60   \n",
       "1             Lee Min-ho, Park Shin-hye, Kim Woo-bin          16.70   \n",
       "2  Lee Min-ho, Kim Go-eun, Woo Do-hwan, Kim Kyung...           7.70   \n",
       "3  Lee Min-ho, Ku Hye-sun, Kim Hyun-joong, Kim Bu...          25.70   \n",
       "4  Gong Yoo, Kim Go-eun, Lee Dong-wook, Yoo In-na...          12.81   \n",
       "\n",
       "                     Genre                                    Director  \\\n",
       "0   Fantasy,Romance,Comedy                      Jin Hyuk, Park Seon-Ho   \n",
       "1     Romance, Drama, Teen                Kang Shin-hyo, Boo Sung-chul   \n",
       "2  Romance, Fantasy, Drama    Baek Sang-hoon, Jung Ji-hyun, Yoo Je-won   \n",
       "3   Romance, Comedy, Drama                                Jeon Ki-sang   \n",
       "4  Fantasy, Romance, Drama  Lee Eung-bok, Kwon Hyuk-chan, Yoon Jong-ho   \n",
       "\n",
       "         Writer  Year  No of Episodes Network  \n",
       "0   Park Ji-eun  2016              21     SBS  \n",
       "1  Kim Eun-sook  2013              20     SBS  \n",
       "2  Kim Eun-sook  2020              16     SBS  \n",
       "3  Yoon Ji-ryun  2009              25     KBS  \n",
       "4  Kim Eun-sook  2016              18     TvN  "
      ]
     },
     "execution_count": 16,
     "metadata": {},
     "output_type": "execute_result"
    }
   ],
   "source": [
    "import pandas as pd\n",
    "import numpy as np\n",
    "from sklearn.feature_extraction.text import CountVectorizer\n",
    "from sklearn.metrics.pairwise import cosine_similarity\n",
    "\n",
    "df = pd.read_csv(\"./data/kdrama.csv\")\n",
    "df.head()"
   ]
  },
  {
   "cell_type": "code",
   "execution_count": 22,
   "metadata": {},
   "outputs": [
    {
     "name": "stdout",
     "output_type": "stream",
     "text": [
      "0\n"
     ]
    }
   ],
   "source": [
    "print(df.index[0])"
   ]
  },
  {
   "cell_type": "code",
   "execution_count": 17,
   "metadata": {},
   "outputs": [
    {
     "data": {
      "text/plain": [
       "'Jun Ji-hyun, Lee Min-ho Fantasy,Romance,Comedy Jin Hyuk, Park Seon-Ho'"
      ]
     },
     "execution_count": 17,
     "metadata": {},
     "output_type": "execute_result"
    }
   ],
   "source": [
    "def combine_features(row):\n",
    "    features = [\"Actors\",\"Genre\",\"Director\"]\n",
    "    return \" \".join(row[features])\n",
    "\n",
    "df[\"combined_features\"] = df.apply(combine_features,axis=1) #applying combined_features() method over each rows of dataframe and storing the combined string in \"combined_features\" column\n",
    "df.iloc[0].combined_features"
   ]
  },
  {
   "cell_type": "code",
   "execution_count": 18,
   "metadata": {},
   "outputs": [
    {
     "name": "stdout",
     "output_type": "stream",
     "text": [
      "[[0 0 0 ... 0 0 0]\n",
      " [0 0 0 ... 0 0 0]\n",
      " [0 0 0 ... 0 0 0]\n",
      " ...\n",
      " [0 0 0 ... 0 0 0]\n",
      " [0 0 0 ... 0 0 0]\n",
      " [0 0 1 ... 0 0 0]]\n",
      "[[1.         0.3354102  0.38575837 ... 0.07216878 0.21759707 0.25515518]\n",
      " [0.3354102  1.         0.3105295  ... 0.19364917 0.23354968 0.18257419]\n",
      " [0.38575837 0.3105295  1.         ... 0.17817416 0.34918995 0.22047928]\n",
      " ...\n",
      " [0.07216878 0.19364917 0.17817416 ... 1.         0.05025189 0.05892557]\n",
      " [0.21759707 0.23354968 0.34918995 ... 0.05025189 1.         0.10660036]\n",
      " [0.25515518 0.18257419 0.22047928 ... 0.05892557 0.10660036 1.        ]]\n"
     ]
    }
   ],
   "source": [
    "cv = CountVectorizer()\n",
    "count_matrix = cv.fit_transform(df[\"combined_features\"])\n",
    "print(count_matrix.toarray())\n",
    "cosine_sim = cosine_similarity(count_matrix)\n",
    "print(cosine_sim)"
   ]
  },
  {
   "cell_type": "code",
   "execution_count": 23,
   "metadata": {},
   "outputs": [],
   "source": [
    "def get_title_from_index(index):\n",
    "    return df[df.index == index][\"Drama_Name\"].values[0]\n",
    "def get_index_from_title(title):\n",
    "    return df[df.Drama_Name == title][\"index\"].values[0]"
   ]
  },
  {
   "cell_type": "code",
   "execution_count": 38,
   "metadata": {},
   "outputs": [],
   "source": [
    "movie_user_likes = \"The Heirs\"\n",
    "index = [i for i in range(len(df))]\n",
    "df['index'] = index\n",
    "\n",
    "movie_index = get_index_from_title(movie_user_likes)\n",
    "similar_movies = list(enumerate(cosine_sim[movie_index])) #accessing the row corresponding to given movie to find all the \n",
    "# print((similar_movies))"
   ]
  },
  {
   "cell_type": "code",
   "execution_count": 41,
   "metadata": {},
   "outputs": [
    {
     "name": "stdout",
     "output_type": "stream",
     "text": [
      "[(62, 0.5423261445466404), (125, 0.5163977794943223), (105, 0.4961389383568338), (107, 0.47434164902525694), (68, 0.4733646312031287), (48, 0.4616902584383193), (39, 0.45675013919556984), (7, 0.45184805705753206), (29, 0.45184805705753206), (32, 0.44177063089637447), (38, 0.41403933560541256), (14, 0.4103913408340616), (63, 0.4103913408340616), (98, 0.40451991747794525), (93, 0.3913118960624632), (114, 0.3913118960624632), (123, 0.3903600291794133), (71, 0.3892494720807615), (3, 0.3834824944236852), (33, 0.3813850356982369), (89, 0.3813850356982369), (28, 0.3803194146278324), (53, 0.3730019232961255), (86, 0.3689323936863109), (30, 0.36144869800612445), (50, 0.3585685828003181), (117, 0.35856858280031806), (124, 0.3508232077228117), (88, 0.35032452487268534), (81, 0.34641016151377546), (122, 0.3464101615137754), (51, 0.34513424498131673), (40, 0.34156502553198664), (0, 0.33541019662496846), (36, 0.33541019662496846), (79, 0.33541019662496846), (116, 0.33541019662496846), (74, 0.33371190623595726), (120, 0.33371190623595726), (108, 0.32274861218395146), (96, 0.31950482521134693), (102, 0.31304951684997057), (100, 0.3130495168499705), (109, 0.3113995776646092), (2, 0.3105295017040594), (5, 0.31008683647302115), (21, 0.31008683647302115), (27, 0.3077935056255462), (70, 0.3069703067574603), (83, 0.30123203803835463), (23, 0.3), (22, 0.29880715233359845), (65, 0.2988071523335984), (8, 0.2940858488375231), (67, 0.29277002188455997), (106, 0.2927700218845599), (57, 0.28867513459481287), (72, 0.28867513459481287), (52, 0.28603877677367767), (75, 0.28603877677367767), (127, 0.2857738033247041), (46, 0.282842712474619), (54, 0.27975144247209416), (119, 0.27975144247209416), (84, 0.2795084971874737), (92, 0.2795084971874737), (26, 0.2738612787525831), (47, 0.27247463045653303), (13, 0.2711630722733202), (35, 0.2711630722733202), (95, 0.26967994498529685), (103, 0.26666666666666666), (97, 0.25819888974716115), (73, 0.2581988897471611), (41, 0.2564945880212885), (45, 0.25354627641855493), (10, 0.24999999999999997), (18, 0.24999999999999997), (99, 0.24999999999999997), (4, 0.24913643956121986), (104, 0.24748737341529162), (44, 0.24494897427831777), (85, 0.2409657986707497), (78, 0.23836564731139806), (16, 0.23717082451262844), (129, 0.2335496832484569), (20, 0.23312620206007845), (17, 0.23094010767585027), (69, 0.23094010767585027), (113, 0.23094010767585027), (56, 0.22360679774997896), (77, 0.22360679774997896), (66, 0.22056438662814232), (126, 0.21926450482675733), (34, 0.21693045781865616), (82, 0.21081851067789198), (6, 0.2051956704170308), (91, 0.2051956704170308), (101, 0.2051956704170308), (112, 0.2051956704170308), (55, 0.20225995873897262), (31, 0.19999999999999998), (58, 0.19999999999999998), (115, 0.19999999999999998), (19, 0.19518001458970663), (128, 0.19364916731037085), (110, 0.19069251784911845), (61, 0.1860521018838127), (121, 0.1860521018838127), (130, 0.18257418583505539), (9, 0.17928429140015906), (15, 0.17888543819998318), (42, 0.17888543819998318), (43, 0.17888543819998318), (11, 0.16770509831248423), (80, 0.16269784336399212), (118, 0.16269784336399212), (25, 0.15), (12, 0.14638501094227996), (49, 0.14638501094227996), (111, 0.13987572123604708), (90, 0.12909944487358058), (60, 0.11952286093343936), (76, 0.11952286093343936), (94, 0.11547005383792514), (87, 0.09759000729485331), (24, 0.09534625892455922), (37, 0.09534625892455922), (59, 0.08770580193070293), (64, 0.07071067811865475)]\n",
      "Top 5 similar movies to The Heirs are:\n",
      "\n",
      "About time\n",
      "My girlfriend is gumiho\n",
      "Encounter\n",
      "Doctors\n",
      "Pinocchio\n",
      "Big\n"
     ]
    }
   ],
   "source": [
    "sorted_similar_movies = sorted(similar_movies,key=lambda x:x[1],reverse=True)[1:]\n",
    "\n",
    "i=0\n",
    "print(\"Top 5 similar movies to \"+movie_user_likes+\" are:\\n\")\n",
    "for element in sorted_similar_movies:\n",
    "    print(get_title_from_index(element[0]))\n",
    "    i=i+1\n",
    "    if i>5:\n",
    "        break"
   ]
  },
  {
   "cell_type": "code",
   "execution_count": 35,
   "metadata": {},
   "outputs": [
    {
     "name": "stdout",
     "output_type": "stream",
     "text": [
      "[(0, 'Python'), (1, 'Java'), (2, 'JavaScript')]\n"
     ]
    }
   ],
   "source": [
    "languages = ['Python', 'Java', 'JavaScript']\n",
    "\n",
    "enumerate_prime = enumerate(languages)\n",
    "\n",
    "# convert enumerate object to list\n",
    "print(list(enumerate_prime))\n",
    "\n",
    "# Output: [(0, 'Python'), (1, 'Java'), (2, 'JavaScript')]"
   ]
  },
  {
   "cell_type": "code",
   "execution_count": null,
   "metadata": {},
   "outputs": [],
   "source": []
  }
 ],
 "metadata": {
  "interpreter": {
   "hash": "f8d251c8135160fde514869c29d8a9b916c20346bb8d32c49b505b98d84f4acd"
  },
  "kernelspec": {
   "display_name": "Python 3",
   "language": "python",
   "name": "python3"
  },
  "language_info": {
   "codemirror_mode": {
    "name": "ipython",
    "version": 3
   },
   "file_extension": ".py",
   "mimetype": "text/x-python",
   "name": "python",
   "nbconvert_exporter": "python",
   "pygments_lexer": "ipython3",
   "version": "3.7.4"
  }
 },
 "nbformat": 4,
 "nbformat_minor": 2
}
